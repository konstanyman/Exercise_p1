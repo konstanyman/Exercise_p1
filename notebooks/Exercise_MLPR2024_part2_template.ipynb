{
 "cells": [
  {
   "cell_type": "markdown",
   "id": "0bfbc2b3",
   "metadata": {},
   "source": [
    "Exercise work consists of three parts. After each part, take the mini-exam available in Moodle. The questions concern the exercise so read the instructions carefully and make sure you remember to cover all given tasks. <br>\n",
    "After the deadline of each mini-exam, example results will be published. This helps you to move to the next part. However, take into account that the deadlines are thus strict, no extensions will be granted! <br>\n",
    "Two exam points can be acquired from each mini-exam. All three parts of the exercise are compulsory. Completed exercise work from previous years does not apply for this course."
   ]
  },
  {
   "cell_type": "markdown",
   "id": "ea03f4ab",
   "metadata": {},
   "source": [
    "**Deadlines for the mini-exams:**\n",
    "- Part 1: Fri 9.2.2024 at 23:59\n",
    "- Part 2: Fri 23.2024 at 23:59\n",
    "- Part 3: Fri 8.3.2024 at 23:59\n",
    "\n",
    "**If you encounter problems, Google first and if you can’t find an answer, ask for help**\n",
    "- Moodle area for questions\n",
    "- pekavir@utu.fi\n",
    "\n",
    "**Grading**\n",
    "\n",
    "The exercise covers a part of the grading in this course. The course exam has 5 questions, 6 points of each. Exercise gives at maximum 6 points, i.e. the total score is 36 points."
   ]
  },
  {
   "cell_type": "markdown",
   "id": "fb9b2c64",
   "metadata": {},
   "source": [
    "# Part 1"
   ]
  },
  {
   "cell_type": "markdown",
   "id": "2e0b039a",
   "metadata": {},
   "source": [
    "# Part 2"
   ]
  },
  {
   "cell_type": "markdown",
   "id": "234040c0",
   "metadata": {},
   "source": [
    "Import all the packages needed for this notebook in one cell (add the ones you apply):"
   ]
  },
  {
   "cell_type": "code",
   "execution_count": 1,
   "id": "67124354",
   "metadata": {},
   "outputs": [],
   "source": [
    "import pandas as pd"
   ]
  },
  {
   "cell_type": "markdown",
   "id": "caf8da0c",
   "metadata": {},
   "source": [
    "## Data exploration"
   ]
  },
  {
   "cell_type": "markdown",
   "id": "b31bbea8",
   "metadata": {},
   "source": [
    "Import the training data set prepared in the previous part of the exercise."
   ]
  },
  {
   "cell_type": "code",
   "execution_count": 2,
   "id": "77c0804f",
   "metadata": {},
   "outputs": [],
   "source": [
    "df = pd.read_parquet('../training_data/rice_feature_data.parquet')"
   ]
  },
  {
   "cell_type": "markdown",
   "id": "fd257ad6",
   "metadata": {},
   "source": [
    "Standardize the data using Z-score."
   ]
  },
  {
   "cell_type": "markdown",
   "id": "3b5184f2",
   "metadata": {},
   "source": [
    "### Histograms"
   ]
  },
  {
   "cell_type": "markdown",
   "id": "67eb8467",
   "metadata": {},
   "source": [
    "Plot a histogram for each Z-scored feature. Plot all rice species in the same figure and use different color for each."
   ]
  },
  {
   "cell_type": "markdown",
   "id": "041d456e",
   "metadata": {},
   "source": [
    "Which features may have some discriminative power over rice species according to the histograms?"
   ]
  },
  {
   "cell_type": "markdown",
   "id": "58109c66",
   "metadata": {},
   "source": [
    "### Pairplot"
   ]
  },
  {
   "cell_type": "markdown",
   "id": "00d9b193",
   "metadata": {},
   "source": [
    "Plot pairplots, each Z-scored feature against each Z-scored feature. Are there any correlating features according to the pairplot?"
   ]
  },
  {
   "cell_type": "markdown",
   "id": "4c72e411",
   "metadata": {},
   "source": [
    "### PCA"
   ]
  },
  {
   "cell_type": "markdown",
   "id": "25e68eaa",
   "metadata": {},
   "source": [
    "Fit PCA using two principal components (remember to use Z-scored feature values). <br>\n",
    "Plot the PCA figure with two components, and color the data points according to their species. <br>\n",
    "Show the legend and label the axes.\n",
    "Save the figure as a png-file."
   ]
  },
  {
   "cell_type": "markdown",
   "id": "d501930b",
   "metadata": {},
   "source": [
    "Can you see any clusters in the PCA figure? Does this figure give you any clues, how well you will be able to classify the rice species? Explain."
   ]
  },
  {
   "cell_type": "markdown",
   "id": "8100c607",
   "metadata": {},
   "source": [
    "How many PCA components are needed to cover 97% of the variance?"
   ]
  },
  {
   "cell_type": "markdown",
   "id": "c248209b",
   "metadata": {},
   "source": [
    "## Model selection"
   ]
  },
  {
   "cell_type": "markdown",
   "id": "f87d5eeb",
   "metadata": {},
   "source": [
    "Select the best model for each classifier. Use 5-fold repeated cross validation with 3 repetitions (*RepeatedKFold* from sklearn). Use the following hyperparameters:\n",
    "\n",
    "- Random Forest\n",
    "    - n_estimators from 100 to 300 with 50 steps\n",
    "    - max_features = ['sqrt', 'log2', None]\n",
    "    - whether to use bootstrap or not \n",
    "\n",
    "- Support Vector Machine\n",
    "    - gamma = ['scale', 'auto']\n",
    "    - C = [0.1, 1, 10, 100]\n",
    "    - kernel = ['linear', 'rbf', 'poly']\n",
    "    \n",
    "- MLP:\n",
    "    - use one hidden layer\n",
    "    - number of neurons in the hidden layer from 15 to 40 in 5 neuron steps\n",
    "    - activation function: hyperbolic tanh function and rectified linear unit function\n",
    "    - solver: stochastic gradient descent and adam\n",
    "    - validation_fraction: 0.1 and 0.3\n",
    "    - strength of the L2 regularization term: alpha = [0.01, 0.1, 1]\n",
    "\n",
    "For each classifier:\n",
    "- Report the selected combination of hyperparameters <br>\n",
    "- Report the accuracy value for each hyperparameter combination <br>\n",
    "\n",
    "For Random Forest model, report the feature importance for each feature. Which features seem to be the most important? Does this correspond with the observations you made in the data exploration? <br>\n",
    "Ponder the model selection process. Which things should be considered? How could you improve the model selection process?"
   ]
  },
  {
   "cell_type": "markdown",
   "id": "58f1ccca",
   "metadata": {},
   "source": [
    "Which model seems to benefit the most of the hyperparameter tuning (with these parameter combinations)?"
   ]
  }
 ],
 "metadata": {
  "kernelspec": {
   "display_name": "Python [conda env:env1]",
   "language": "python",
   "name": "conda-env-env1-py"
  },
  "language_info": {
   "codemirror_mode": {
    "name": "ipython",
    "version": 3
   },
   "file_extension": ".py",
   "mimetype": "text/x-python",
   "name": "python",
   "nbconvert_exporter": "python",
   "pygments_lexer": "ipython3",
   "version": "3.10.5"
  },
  "toc": {
   "base_numbering": 1,
   "nav_menu": {},
   "number_sections": true,
   "sideBar": true,
   "skip_h1_title": false,
   "title_cell": "Table of Contents",
   "title_sidebar": "Contents",
   "toc_cell": false,
   "toc_position": {
    "height": "calc(100% - 180px)",
    "left": "10px",
    "top": "150px",
    "width": "232px"
   },
   "toc_section_display": true,
   "toc_window_display": false
  }
 },
 "nbformat": 4,
 "nbformat_minor": 5
}
