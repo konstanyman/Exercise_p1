{
 "cells": [
  {
   "cell_type": "markdown",
   "id": "48574939",
   "metadata": {},
   "source": [
    "Exercise work consists of three parts. After each part, take the mini-exam available in Moodle. The questions concern the exercise so read the instructions carefully and make sure you remember to cover all given tasks. <br>\n",
    "After the deadline of each mini-exam, example results will be published. This helps you to move to the next part. However, take into account that the deadlines are thus strict, no extensions will be granted! <br>\n",
    "Two exam points can be acquired from each mini-exam. All three parts of the exercise are compulsory. Completed exercise work from previous years does not apply for this course."
   ]
  },
  {
   "cell_type": "markdown",
   "id": "0bfbc2b3",
   "metadata": {},
   "source": [
    "**Deadlines for the mini-exams:**\n",
    "- Part 1: Fri 9.2.2024 at 23:59\n",
    "- Part 2: Fri 23.2024 at 23:59\n",
    "- Part 3: Fri 8.3.2024 at 23:59\n",
    "\n",
    "**If you encounter problems, Google first and if you can’t find an answer, ask for help**\n",
    "- Moodle area for questions\n",
    "- pekavir@utu.fi\n",
    "\n",
    "**Grading**\n",
    "\n",
    "The exercise covers a part of the grading in this course. The course exam has 5 questions, 6 points of each. Exercise gives at maximum 6 points, i.e. the total score is 36 points."
   ]
  },
  {
   "cell_type": "markdown",
   "id": "fb9b2c64",
   "metadata": {},
   "source": [
    "# Part 1"
   ]
  },
  {
   "cell_type": "markdown",
   "id": "f4e405c5",
   "metadata": {},
   "source": [
    "Write a proper introductory chapter for your report:\n",
    "<br>\n",
    "- Explain the task and the objectives\n",
    "- Describe, what kind of data were used? Where did it originate? Give the correct reference. Explain shortly, how the data has been prepared in the original article. Explain, how you deployed the data\n",
    "- Report shortly the process used in this task (preprocessing, feature derivation, methods, training, evaluation)\n",
    "- Describe the results"
   ]
  },
  {
   "cell_type": "markdown",
   "id": "4910f193",
   "metadata": {},
   "source": [
    "# Part 2"
   ]
  },
  {
   "cell_type": "markdown",
   "id": "9d85ec88",
   "metadata": {},
   "source": [
    "# Part 3"
   ]
  },
  {
   "cell_type": "code",
   "execution_count": 58,
   "id": "67124354",
   "metadata": {},
   "outputs": [
    {
     "data": {
      "text/html": [
       "<style>.container { width:90% !important; }</style>"
      ],
      "text/plain": [
       "<IPython.core.display.HTML object>"
      ]
     },
     "metadata": {},
     "output_type": "display_data"
    }
   ],
   "source": [
    "import numpy as np\n",
    "import pandas as pd\n",
    "from matplotlib import pyplot as plt\n",
    "import seaborn as sns\n",
    "# import cv2 as cv\n",
    "# import glob, os\n",
    "# import itertools\n",
    "# from random import sample\n",
    "# from random import seed\n",
    "# from scipy.stats import skew\n",
    "# from scipy.stats import kurtosis\n",
    "# from scipy.stats import entropy\n",
    "# import scipy.stats\n",
    "# from sklearn.decomposition import PCA\n",
    "from sklearn.model_selection import RepeatedKFold\n",
    "from sklearn.model_selection import StratifiedKFold\n",
    "from sklearn.model_selection import GridSearchCV\n",
    "from sklearn.ensemble import RandomForestClassifier\n",
    "from sklearn.svm import SVC\n",
    "from sklearn.neural_network import MLPClassifier\n",
    "from sklearn.model_selection import cross_val_predict\n",
    "from sklearn.metrics import confusion_matrix, ConfusionMatrixDisplay, accuracy_score\n",
    "\n",
    "from IPython.display import display, HTML\n",
    "display(HTML(\"<style>.container { width:90% !important; }</style>\"))\n",
    "\n",
    "import time"
   ]
  },
  {
   "cell_type": "markdown",
   "id": "d973b1d7",
   "metadata": {},
   "source": [
    "## Performance estimation"
   ]
  },
  {
   "cell_type": "markdown",
   "id": "35fd0156",
   "metadata": {},
   "source": [
    "### Random Forest"
   ]
  },
  {
   "cell_type": "markdown",
   "id": "08bff697",
   "metadata": {},
   "source": [
    "Let's estimate the performance of each model using nested cross-validation. <br>\n",
    "Again, we'll use 5-fold repeated cross validation with 3 repetitions and the same parameter ranges as in Part 2 for the inner loop. <br>\n",
    "For the outer loop we'll use 10-fold Stratified Kfold cross-validation."
   ]
  },
  {
   "cell_type": "markdown",
   "id": "be6433aa",
   "metadata": {},
   "source": [
    "Study the following implementation of performance estimation for Random Forest model. <br>\n",
    "**You do not need to run the cell below, you can import the results and start from there.** <br>"
   ]
  },
  {
   "cell_type": "code",
   "execution_count": null,
   "id": "d7b2e35e",
   "metadata": {
    "tags": []
   },
   "outputs": [],
   "source": [
    "df = pd.read_parquet('../training_data/rice_feature_data.parquet')\n",
    "\n",
    "feats = ['mean_y', 'var_y', 'skew_y', 'kurt_y',\n",
    "         'mean_cr', 'var_cr', 'skew_cr', 'kurt_cr',\n",
    "         'mean_cb', 'var_cb', 'skew_cb', 'kurt_cb',\n",
    "         'major_axis_length', 'minor_axis_length',\n",
    "         'area', 'perimeter',\n",
    "         'equivalent_diameter', 'compactness',\n",
    "         'shape_factor1', 'shape_factor2']\n",
    "\n",
    "# Z-Score using pandas\n",
    "for feat in feats:\n",
    "    df['{}_Z'.format(feat)] = (df[feat] - df[feat].mean()) / df[feat].std()\n",
    "\n",
    "# Z-scored feature names\n",
    "feats_Z = [feat + '_Z' for feat in feats]\n",
    "\n",
    "y = df['class']\n",
    "X = df[feats_Z]\n",
    "\n",
    "kf_outer = StratifiedKFold(n_splits=10, random_state=10, shuffle=True)\n",
    "kf_inner = RepeatedKFold(n_splits=5, n_repeats=3, random_state=5)\n",
    "\n",
    "n_estimators = range(100, 350, 50) \n",
    "max_features = ['sqrt', 'log2', None]\n",
    "bootstrap = [True, False]\n",
    "\n",
    "parameters={\n",
    "    'n_estimators': n_estimators,\n",
    "    'max_features': max_features,\n",
    "    'bootstrap': bootstrap}\n",
    "\n",
    "rf = RandomForestClassifier(random_state=20)\n",
    "\n",
    "results = []\n",
    "\n",
    "start_time = time.time()\n",
    "\n",
    "for fold, (train_index, test_index) in enumerate(kf_outer.split(X, y)):\n",
    "    X_train, X_test = X.iloc[train_index], X.iloc[test_index]\n",
    "    y_train, y_test = y.iloc[train_index], y.iloc[test_index]\n",
    "    \n",
    "    # temporary dataframe for saving the results\n",
    "    temp_res = df.iloc[test_index].copy()\n",
    "    temp_res['fold'] = [fold] * temp_res.shape[0]\n",
    "        \n",
    "    # select the best model\n",
    "    gscv = GridSearchCV(rf, parameters, cv=kf_inner, return_train_score=False, n_jobs=-1)\n",
    "    gscv.fit(X_train, y_train)\n",
    "    \n",
    "    # use the selected model to predict the classes for the test data\n",
    "    temp_res['pred_class'] = gscv.predict(X_test)\n",
    "    \n",
    "    # save the best hyperparameter combination\n",
    "    temp_res['best_params'] = [gscv.best_params_] * temp_res.shape[0]\n",
    "    \n",
    "    results.append(temp_res)\n",
    "\n",
    "results = pd.concat(results, axis=0)\n",
    "results['accuracy'] = results.apply(lambda i: 1 if i['class'] == i['pred_class'] else 0, axis=1)\n",
    "\n",
    "results.index.name = 'orig_index'\n",
    "# sort the results in the same order as in df\n",
    "results = results.sort_values('orig_index').reset_index(drop=True)\n",
    "results.to_parquet('../results/rf_results.parquet')\n",
    "    \n",
    "print(\"--- %s seconds ---\" % (time.time() - start_time))"
   ]
  },
  {
   "cell_type": "markdown",
   "id": "6657d379",
   "metadata": {},
   "source": [
    "Save the supplied (can be found from Moodle) rf_results.parquet-file in a folder named \"results\"."
   ]
  },
  {
   "cell_type": "code",
   "execution_count": 23,
   "id": "678a677c",
   "metadata": {},
   "outputs": [
    {
     "data": {
      "text/html": [
       "<div>\n",
       "<style scoped>\n",
       "    .dataframe tbody tr th:only-of-type {\n",
       "        vertical-align: middle;\n",
       "    }\n",
       "\n",
       "    .dataframe tbody tr th {\n",
       "        vertical-align: top;\n",
       "    }\n",
       "\n",
       "    .dataframe thead th {\n",
       "        text-align: right;\n",
       "    }\n",
       "</style>\n",
       "<table border=\"1\" class=\"dataframe\">\n",
       "  <thead>\n",
       "    <tr style=\"text-align: right;\">\n",
       "      <th></th>\n",
       "      <th>mean_y</th>\n",
       "      <th>var_y</th>\n",
       "      <th>skew_y</th>\n",
       "      <th>kurt_y</th>\n",
       "      <th>mean_cr</th>\n",
       "      <th>var_cr</th>\n",
       "      <th>skew_cr</th>\n",
       "      <th>kurt_cr</th>\n",
       "      <th>mean_cb</th>\n",
       "      <th>var_cb</th>\n",
       "      <th>...</th>\n",
       "      <th>area_Z</th>\n",
       "      <th>perimeter_Z</th>\n",
       "      <th>equivalent_diameter_Z</th>\n",
       "      <th>compactness_Z</th>\n",
       "      <th>shape_factor1_Z</th>\n",
       "      <th>shape_factor2_Z</th>\n",
       "      <th>fold</th>\n",
       "      <th>pred_class</th>\n",
       "      <th>best_params</th>\n",
       "      <th>accuracy</th>\n",
       "    </tr>\n",
       "  </thead>\n",
       "  <tbody>\n",
       "    <tr>\n",
       "      <th>0</th>\n",
       "      <td>218.428552</td>\n",
       "      <td>196.303077</td>\n",
       "      <td>-0.338409</td>\n",
       "      <td>-0.504973</td>\n",
       "      <td>127.368889</td>\n",
       "      <td>0.233079</td>\n",
       "      <td>0.547052</td>\n",
       "      <td>-1.690834</td>\n",
       "      <td>130.752593</td>\n",
       "      <td>1.983907</td>\n",
       "      <td>...</td>\n",
       "      <td>-0.182208</td>\n",
       "      <td>-0.447928</td>\n",
       "      <td>-0.113246</td>\n",
       "      <td>0.653603</td>\n",
       "      <td>-0.546681</td>\n",
       "      <td>0.461055</td>\n",
       "      <td>1</td>\n",
       "      <td>Arb</td>\n",
       "      <td>{'bootstrap': False, 'max_features': 'sqrt', '...</td>\n",
       "      <td>1</td>\n",
       "    </tr>\n",
       "    <tr>\n",
       "      <th>1</th>\n",
       "      <td>206.205057</td>\n",
       "      <td>84.868804</td>\n",
       "      <td>1.129581</td>\n",
       "      <td>2.096088</td>\n",
       "      <td>127.158176</td>\n",
       "      <td>0.133157</td>\n",
       "      <td>1.873486</td>\n",
       "      <td>1.509951</td>\n",
       "      <td>130.197674</td>\n",
       "      <td>0.726706</td>\n",
       "      <td>...</td>\n",
       "      <td>-0.860789</td>\n",
       "      <td>-1.160999</td>\n",
       "      <td>-0.927399</td>\n",
       "      <td>0.446620</td>\n",
       "      <td>0.092642</td>\n",
       "      <td>1.045635</td>\n",
       "      <td>1</td>\n",
       "      <td>Arb</td>\n",
       "      <td>{'bootstrap': False, 'max_features': 'sqrt', '...</td>\n",
       "      <td>1</td>\n",
       "    </tr>\n",
       "    <tr>\n",
       "      <th>2</th>\n",
       "      <td>215.034675</td>\n",
       "      <td>366.375486</td>\n",
       "      <td>0.051958</td>\n",
       "      <td>-0.814078</td>\n",
       "      <td>128.245927</td>\n",
       "      <td>0.185447</td>\n",
       "      <td>1.179993</td>\n",
       "      <td>-0.607617</td>\n",
       "      <td>129.834424</td>\n",
       "      <td>0.940277</td>\n",
       "      <td>...</td>\n",
       "      <td>-0.262414</td>\n",
       "      <td>-0.393699</td>\n",
       "      <td>-0.203251</td>\n",
       "      <td>0.352478</td>\n",
       "      <td>-0.334549</td>\n",
       "      <td>0.262486</td>\n",
       "      <td>4</td>\n",
       "      <td>Arb</td>\n",
       "      <td>{'bootstrap': False, 'max_features': 'sqrt', '...</td>\n",
       "      <td>1</td>\n",
       "    </tr>\n",
       "    <tr>\n",
       "      <th>3</th>\n",
       "      <td>203.853259</td>\n",
       "      <td>214.463028</td>\n",
       "      <td>-0.487579</td>\n",
       "      <td>-0.702229</td>\n",
       "      <td>127.098179</td>\n",
       "      <td>0.088540</td>\n",
       "      <td>2.700806</td>\n",
       "      <td>5.294351</td>\n",
       "      <td>130.877276</td>\n",
       "      <td>1.362875</td>\n",
       "      <td>...</td>\n",
       "      <td>-0.130909</td>\n",
       "      <td>-0.393114</td>\n",
       "      <td>-0.056426</td>\n",
       "      <td>0.498123</td>\n",
       "      <td>-0.497113</td>\n",
       "      <td>0.217142</td>\n",
       "      <td>3</td>\n",
       "      <td>Arb</td>\n",
       "      <td>{'bootstrap': False, 'max_features': 'sqrt', '...</td>\n",
       "      <td>1</td>\n",
       "    </tr>\n",
       "    <tr>\n",
       "      <th>4</th>\n",
       "      <td>226.097925</td>\n",
       "      <td>248.915262</td>\n",
       "      <td>-0.806989</td>\n",
       "      <td>0.882970</td>\n",
       "      <td>128.265342</td>\n",
       "      <td>0.194935</td>\n",
       "      <td>1.062969</td>\n",
       "      <td>-0.870097</td>\n",
       "      <td>129.471783</td>\n",
       "      <td>1.972111</td>\n",
       "      <td>...</td>\n",
       "      <td>-0.359832</td>\n",
       "      <td>-0.393114</td>\n",
       "      <td>-0.314572</td>\n",
       "      <td>0.138864</td>\n",
       "      <td>-0.139084</td>\n",
       "      <td>0.255664</td>\n",
       "      <td>6</td>\n",
       "      <td>Arb</td>\n",
       "      <td>{'bootstrap': False, 'max_features': 'sqrt', '...</td>\n",
       "      <td>1</td>\n",
       "    </tr>\n",
       "  </tbody>\n",
       "</table>\n",
       "<p>5 rows × 46 columns</p>\n",
       "</div>"
      ],
      "text/plain": [
       "       mean_y       var_y    skew_y    kurt_y     mean_cr    var_cr   skew_cr  \\\n",
       "0  218.428552  196.303077 -0.338409 -0.504973  127.368889  0.233079  0.547052   \n",
       "1  206.205057   84.868804  1.129581  2.096088  127.158176  0.133157  1.873486   \n",
       "2  215.034675  366.375486  0.051958 -0.814078  128.245927  0.185447  1.179993   \n",
       "3  203.853259  214.463028 -0.487579 -0.702229  127.098179  0.088540  2.700806   \n",
       "4  226.097925  248.915262 -0.806989  0.882970  128.265342  0.194935  1.062969   \n",
       "\n",
       "    kurt_cr     mean_cb    var_cb  ...    area_Z  perimeter_Z  \\\n",
       "0 -1.690834  130.752593  1.983907  ... -0.182208    -0.447928   \n",
       "1  1.509951  130.197674  0.726706  ... -0.860789    -1.160999   \n",
       "2 -0.607617  129.834424  0.940277  ... -0.262414    -0.393699   \n",
       "3  5.294351  130.877276  1.362875  ... -0.130909    -0.393114   \n",
       "4 -0.870097  129.471783  1.972111  ... -0.359832    -0.393114   \n",
       "\n",
       "   equivalent_diameter_Z  compactness_Z  shape_factor1_Z  shape_factor2_Z  \\\n",
       "0              -0.113246       0.653603        -0.546681         0.461055   \n",
       "1              -0.927399       0.446620         0.092642         1.045635   \n",
       "2              -0.203251       0.352478        -0.334549         0.262486   \n",
       "3              -0.056426       0.498123        -0.497113         0.217142   \n",
       "4              -0.314572       0.138864        -0.139084         0.255664   \n",
       "\n",
       "   fold  pred_class                                        best_params  \\\n",
       "0     1         Arb  {'bootstrap': False, 'max_features': 'sqrt', '...   \n",
       "1     1         Arb  {'bootstrap': False, 'max_features': 'sqrt', '...   \n",
       "2     4         Arb  {'bootstrap': False, 'max_features': 'sqrt', '...   \n",
       "3     3         Arb  {'bootstrap': False, 'max_features': 'sqrt', '...   \n",
       "4     6         Arb  {'bootstrap': False, 'max_features': 'sqrt', '...   \n",
       "\n",
       "   accuracy  \n",
       "0         1  \n",
       "1         1  \n",
       "2         1  \n",
       "3         1  \n",
       "4         1  \n",
       "\n",
       "[5 rows x 46 columns]"
      ]
     },
     "execution_count": 23,
     "metadata": {},
     "output_type": "execute_result"
    }
   ],
   "source": [
    "# start from here!\n",
    "results = pd.read_parquet('../results/rf_results.parquet')\n",
    "results.head()"
   ]
  },
  {
   "cell_type": "code",
   "execution_count": 39,
   "id": "c0ceff5b",
   "metadata": {},
   "outputs": [],
   "source": [
    "# extract rf columns\n",
    "results_rf = results.iloc[:, -4:]"
   ]
  },
  {
   "cell_type": "markdown",
   "id": "245b296b",
   "metadata": {},
   "source": [
    "Answer the questions/tasks: <br>\n",
    " - Which parameter combination is selected the best most often?\n",
    " - Calculate the mean accuracy of each fold and the mean accuracy over all folds\n",
    " - Calculate the confusion matrix over all samples"
   ]
  },
  {
   "cell_type": "code",
   "execution_count": 28,
   "id": "a4cd7566",
   "metadata": {},
   "outputs": [
    {
     "data": {
      "text/plain": [
       "best_params\n",
       "{'bootstrap': False, 'max_features': 'sqrt', 'n_estimators': 100}    200\n",
       "{'bootstrap': True, 'max_features': 'sqrt', 'n_estimators': 150}     100\n",
       "{'bootstrap': False, 'max_features': 'sqrt', 'n_estimators': 150}     50\n",
       "{'bootstrap': True, 'max_features': 'sqrt', 'n_estimators': 300}      50\n",
       "{'bootstrap': True, 'max_features': 'sqrt', 'n_estimators': 100}      50\n",
       "{'bootstrap': True, 'max_features': 'sqrt', 'n_estimators': 250}      50\n",
       "Name: count, dtype: int64"
      ]
     },
     "execution_count": 28,
     "metadata": {},
     "output_type": "execute_result"
    }
   ],
   "source": [
    "# amount of appearances for each paremeter combination\n",
    "results_rf['best_params'].value_counts()"
   ]
  },
  {
   "cell_type": "markdown",
   "id": "48e91d17",
   "metadata": {},
   "source": [
    "<small><i>Parameter combination {'bootstrap': False, 'max_features': 'sqrt', 'n_estimators': 100} is selected most often - in 4 of the 10 folds.</i></small>"
   ]
  },
  {
   "cell_type": "code",
   "execution_count": 31,
   "id": "773cdfe1",
   "metadata": {},
   "outputs": [
    {
     "data": {
      "text/plain": [
       "fold\n",
       "0    0.98\n",
       "1    1.00\n",
       "2    1.00\n",
       "3    1.00\n",
       "4    1.00\n",
       "5    1.00\n",
       "6    0.96\n",
       "7    1.00\n",
       "8    1.00\n",
       "9    1.00\n",
       "Name: accuracy, dtype: float64"
      ]
     },
     "execution_count": 31,
     "metadata": {},
     "output_type": "execute_result"
    }
   ],
   "source": [
    "# mean accuracy of each fold\n",
    "results_rf.groupby(by='fold')['accuracy'].mean()"
   ]
  },
  {
   "cell_type": "code",
   "execution_count": 35,
   "id": "edec5e52",
   "metadata": {},
   "outputs": [
    {
     "data": {
      "text/plain": [
       "0.994"
      ]
     },
     "execution_count": 35,
     "metadata": {},
     "output_type": "execute_result"
    }
   ],
   "source": [
    "# accuracy over all folds\n",
    "results_rf['accuracy'].mean()"
   ]
  },
  {
   "cell_type": "code",
   "execution_count": 54,
   "id": "4099f931",
   "metadata": {},
   "outputs": [
    {
     "data": {
      "image/png": "[encoded data removed]",
      "text/plain": [
       "<Figure size 640x480 with 2 Axes>"
      ]
     },
     "metadata": {},
     "output_type": "display_data"
    }
   ],
   "source": [
    "# confusion matrix over all samples\n",
    "cm = confusion_matrix(results['class'], results['pred_class'], labels=['Arb', 'Bas', 'Ips', 'Jas', 'Kar'])\n",
    "\n",
    "# display confusion matrix\n",
    "disp = ConfusionMatrixDisplay(confusion_matrix=cm,\n",
    "                              display_labels=['Arb', 'Bas', 'Ips', 'Jas', 'Kar'])\n",
    "disp.plot()\n",
    "plt.show()"
   ]
  },
  {
   "cell_type": "markdown",
   "id": "fcf07f21",
   "metadata": {},
   "source": [
    "Here's another way to implement nested cross-validation which uses *cross_val_predict* function from scikit-learn.<br>\n",
    "Modify it to make the perfomance estimation for MLP and SVM (again, use the paramater ranges given in the Part 2).<br>\n",
    "For both models:\n",
    " - Calculate the accuracy over all samples\n",
    " - Show the confusion matrix (you can combine all samples in one confusion matrix as all folds are stratified and include the same number of samples)\n",
    "\n",
    "Compare the three models. Which one performs the best?"
   ]
  },
  {
   "cell_type": "code",
   "execution_count": 3,
   "id": "86034af2",
   "metadata": {},
   "outputs": [],
   "source": [
    "feats_Z = ['mean_y_Z', 'var_y_Z',\n",
    " 'skew_y_Z', 'kurt_y_Z',\n",
    " 'mean_cr_Z', 'var_cr_Z',\n",
    " 'skew_cr_Z', 'kurt_cr_Z',\n",
    " 'mean_cb_Z', 'var_cb_Z',\n",
    " 'skew_cb_Z', 'kurt_cb_Z',\n",
    " 'major_axis_length_Z',\n",
    " 'minor_axis_length_Z',\n",
    " 'area_Z', 'perimeter_Z',\n",
    " 'equivalent_diameter_Z',\n",
    " 'compactness_Z',\n",
    " 'shape_factor1_Z',\n",
    " 'shape_factor2_Z']"
   ]
  },
  {
   "cell_type": "code",
   "execution_count": 4,
   "id": "031cbc5b",
   "metadata": {},
   "outputs": [],
   "source": [
    "# another way\n",
    "y = results['class']\n",
    "X = results[feats_Z]\n",
    "\n",
    "rf = RandomForestClassifier(random_state=20)\n",
    "\n",
    "kf_outer = StratifiedKFold(n_splits=10, random_state=10, shuffle=True)\n",
    "kf_inner = RepeatedKFold(n_splits=5, n_repeats=3, random_state=5)\n",
    "\n",
    "n_estimators = range(100, 350, 50) \n",
    "max_features = ['sqrt', 'log2', None]\n",
    "bootstrap = [True, False]\n",
    "\n",
    "parameters={\n",
    "    'n_estimators': n_estimators,\n",
    "    'max_features': max_features,\n",
    "    'bootstrap': bootstrap}\n",
    "\n",
    "gscv = GridSearchCV(rf, parameters, cv=kf_inner, return_train_score=False, n_jobs=-1)\n",
    "nested_pred = cross_val_predict(gscv, X, y, cv=kf_outer)"
   ]
  },
  {
   "cell_type": "code",
   "execution_count": 59,
   "id": "f1f5ebed",
   "metadata": {},
   "outputs": [
    {
     "name": "stdout",
     "output_type": "stream",
     "text": [
      "Accuracy of random forest classifier: 0.994\n"
     ]
    }
   ],
   "source": [
    "# accuracy of random forest model\n",
    "rf_accuracy = accuracy_score(results['class'], nested_pred)\n",
    "print(f\"Accuracy of random forest classifier: {rf_accuracy}\")"
   ]
  },
  {
   "cell_type": "code",
   "execution_count": 60,
   "id": "3e1c6c0b",
   "metadata": {},
   "outputs": [
    {
     "data": {
      "image/png": "[encoded data removed]",
      "text/plain": [
       "<Figure size 640x480 with 2 Axes>"
      ]
     },
     "metadata": {},
     "output_type": "display_data"
    }
   ],
   "source": [
    "# confusion matrix over all samples\n",
    "cm = confusion_matrix(results['class'], nested_pred, labels=['Arb', 'Bas', 'Ips', 'Jas', 'Kar'])\n",
    "\n",
    "# display confusion matrix\n",
    "disp = ConfusionMatrixDisplay(confusion_matrix=cm,\n",
    "                              display_labels=['Arb', 'Bas', 'Ips', 'Jas', 'Kar'])\n",
    "disp.plot()\n",
    "plt.show()"
   ]
  },
  {
   "cell_type": "code",
   "execution_count": 62,
   "id": "3fc6a489",
   "metadata": {},
   "outputs": [
    {
     "name": "stderr",
     "output_type": "stream",
     "text": [
      "c:\\Python310\\lib\\site-packages\\sklearn\\neural_network\\_multilayer_perceptron.py:691: ConvergenceWarning: Stochastic Optimizer: Maximum iterations (200) reached and the optimization hasn't converged yet.\n",
      "  warnings.warn(\n",
      "c:\\Python310\\lib\\site-packages\\sklearn\\neural_network\\_multilayer_perceptron.py:691: ConvergenceWarning: Stochastic Optimizer: Maximum iterations (200) reached and the optimization hasn't converged yet.\n",
      "  warnings.warn(\n",
      "c:\\Python310\\lib\\site-packages\\sklearn\\neural_network\\_multilayer_perceptron.py:691: ConvergenceWarning: Stochastic Optimizer: Maximum iterations (200) reached and the optimization hasn't converged yet.\n",
      "  warnings.warn(\n",
      "c:\\Python310\\lib\\site-packages\\sklearn\\neural_network\\_multilayer_perceptron.py:691: ConvergenceWarning: Stochastic Optimizer: Maximum iterations (200) reached and the optimization hasn't converged yet.\n",
      "  warnings.warn(\n",
      "c:\\Python310\\lib\\site-packages\\sklearn\\neural_network\\_multilayer_perceptron.py:691: ConvergenceWarning: Stochastic Optimizer: Maximum iterations (200) reached and the optimization hasn't converged yet.\n",
      "  warnings.warn(\n",
      "c:\\Python310\\lib\\site-packages\\sklearn\\neural_network\\_multilayer_perceptron.py:691: ConvergenceWarning: Stochastic Optimizer: Maximum iterations (200) reached and the optimization hasn't converged yet.\n",
      "  warnings.warn(\n",
      "c:\\Python310\\lib\\site-packages\\sklearn\\neural_network\\_multilayer_perceptron.py:691: ConvergenceWarning: Stochastic Optimizer: Maximum iterations (200) reached and the optimization hasn't converged yet.\n",
      "  warnings.warn(\n",
      "c:\\Python310\\lib\\site-packages\\sklearn\\neural_network\\_multilayer_perceptron.py:691: ConvergenceWarning: Stochastic Optimizer: Maximum iterations (200) reached and the optimization hasn't converged yet.\n",
      "  warnings.warn(\n",
      "c:\\Python310\\lib\\site-packages\\sklearn\\neural_network\\_multilayer_perceptron.py:691: ConvergenceWarning: Stochastic Optimizer: Maximum iterations (200) reached and the optimization hasn't converged yet.\n",
      "  warnings.warn(\n",
      "c:\\Python310\\lib\\site-packages\\sklearn\\neural_network\\_multilayer_perceptron.py:691: ConvergenceWarning: Stochastic Optimizer: Maximum iterations (200) reached and the optimization hasn't converged yet.\n",
      "  warnings.warn(\n"
     ]
    }
   ],
   "source": [
    "# MLP\n",
    "y = results['class']\n",
    "X = results[feats_Z]\n",
    "\n",
    "kf_outer = StratifiedKFold(n_splits=10, random_state=10, shuffle=True)\n",
    "kf_inner = RepeatedKFold(n_splits=5, n_repeats=3, random_state=5)\n",
    "\n",
    "# parameter grid\n",
    "param_grid_mlp = {\n",
    "    'hidden_layer_sizes': range(15, 41, 5),\n",
    "    'activation': ['tanh', 'relu'],\n",
    "    'solver': ['sgd', 'adam'],\n",
    "    'validation_fraction': [0.1, 0.3],\n",
    "    'alpha': [0.01, 0.1, 1]\n",
    "}\n",
    "\n",
    "# classifier model\n",
    "mlp = MLPClassifier(random_state=523834)\n",
    "\n",
    "gscv = GridSearchCV(mlp, param_grid_mlp, cv=kf_inner, return_train_score=False, n_jobs=-1)\n",
    "mlp_nested_pred = cross_val_predict(gscv, X, y, cv=kf_outer)"
   ]
  },
  {
   "cell_type": "code",
   "execution_count": 63,
   "id": "c12fa04c",
   "metadata": {},
   "outputs": [
    {
     "name": "stdout",
     "output_type": "stream",
     "text": [
      "Accuracy of MLP classifier: 0.994\n"
     ]
    }
   ],
   "source": [
    "# accuracy of MLP model\n",
    "mlp_accuracy = accuracy_score(results['class'], mlp_nested_pred)\n",
    "print(f\"Accuracy of MLP classifier: {mlp_accuracy}\")"
   ]
  },
  {
   "cell_type": "code",
   "execution_count": 64,
   "id": "38523a6c",
   "metadata": {},
   "outputs": [
    {
     "data": {
      "image/png": "[encoded data removed]",
      "text/plain": [
       "<Figure size 640x480 with 2 Axes>"
      ]
     },
     "metadata": {},
     "output_type": "display_data"
    }
   ],
   "source": [
    "# confusion matrix of MLP model over all samples\n",
    "cm = confusion_matrix(results['class'], mlp_nested_pred, labels=['Arb', 'Bas', 'Ips', 'Jas', 'Kar'])\n",
    "\n",
    "# display confusion matrix\n",
    "disp = ConfusionMatrixDisplay(confusion_matrix=cm,\n",
    "                              display_labels=['Arb', 'Bas', 'Ips', 'Jas', 'Kar'])\n",
    "disp.plot()\n",
    "plt.show()"
   ]
  },
  {
   "cell_type": "markdown",
   "id": "3a80731f",
   "metadata": {},
   "source": [
    "Examine the confusion matrices. Were the acquired results as expected? Why?"
   ]
  },
  {
   "cell_type": "code",
   "execution_count": 65,
   "id": "29025646",
   "metadata": {},
   "outputs": [],
   "source": [
    "# SVM\n",
    "y = results['class']\n",
    "X = results[feats_Z]\n",
    "\n",
    "kf_outer = StratifiedKFold(n_splits=10, random_state=10, shuffle=True)\n",
    "kf_inner = RepeatedKFold(n_splits=5, n_repeats=3, random_state=5)\n",
    "\n",
    "# parameter grid\n",
    "param_grid_svm = {\n",
    "    'gamma': ['scale', 'auto'],\n",
    "    'C': [0.1, 1, 10, 100],\n",
    "    'kernel': ['linear', 'rbf', 'poly']\n",
    "}\n",
    "\n",
    "# classifier model\n",
    "svc = SVC(random_state=523834)\n",
    "\n",
    "gscv = GridSearchCV(svc, param_grid_svm, cv=kf_inner, return_train_score=False, n_jobs=-1)\n",
    "svc_nested_pred = cross_val_predict(gscv, X, y, cv=kf_outer)"
   ]
  },
  {
   "cell_type": "code",
   "execution_count": 66,
   "id": "a1606787",
   "metadata": {},
   "outputs": [
    {
     "name": "stdout",
     "output_type": "stream",
     "text": [
      "Accuracy of MLP classifier: 0.998\n"
     ]
    }
   ],
   "source": [
    "# accuracy of SVM model\n",
    "svm_accuracy = accuracy_score(results['class'], svc_nested_pred)\n",
    "print(f\"Accuracy of MLP classifier: {svm_accuracy}\")"
   ]
  },
  {
   "cell_type": "code",
   "execution_count": 67,
   "id": "864ed7ed",
   "metadata": {},
   "outputs": [
    {
     "data": {
      "image/png": "[encoded data removed]",
      "text/plain": [
       "<Figure size 640x480 with 2 Axes>"
      ]
     },
     "metadata": {},
     "output_type": "display_data"
    }
   ],
   "source": [
    "# confusion matrix of MLP model over all samples\n",
    "cm = confusion_matrix(results['class'], svc_nested_pred, labels=['Arb', 'Bas', 'Ips', 'Jas', 'Kar'])\n",
    "\n",
    "# display confusion matrix\n",
    "disp = ConfusionMatrixDisplay(confusion_matrix=cm,\n",
    "                              display_labels=['Arb', 'Bas', 'Ips', 'Jas', 'Kar'])\n",
    "disp.plot()\n",
    "plt.show()"
   ]
  },
  {
   "cell_type": "markdown",
   "id": "3ff89c5f",
   "metadata": {},
   "source": [
    "SVM performs the best, although all models perform quite well."
   ]
  },
  {
   "cell_type": "markdown",
   "id": "85f896a1",
   "metadata": {},
   "source": [
    "## Discussion"
   ]
  },
  {
   "cell_type": "markdown",
   "id": "18c6e2e9",
   "metadata": {},
   "source": [
    "Discuss you results:\n",
    "\n",
    "- Ponder the limitations and generalization of the models. How well will they perform for data outside this data set? Explain.\n",
    "- Compare your results with the original article. Are they comparable? \n",
    "- Ponder applications for these kind of models, who could benefit from them? What would be interesting to study more on this area?"
   ]
  },
  {
   "cell_type": "markdown",
   "id": "acbb9632",
   "metadata": {},
   "source": [
    "## Reflection"
   ]
  },
  {
   "cell_type": "markdown",
   "id": "94edc9be",
   "metadata": {},
   "source": [
    "Reflect your work:\n",
    "\n",
    "- Did you have any (mis)conceptions which changed while doing this work? \n",
    "- What did you learn?\n",
    "- What was difficult?\n",
    "- In which aspects of work did you succeed well?\n",
    "- How could you improve you working process?\n",
    "- How can you deploy the learnings from this exercise in future?"
   ]
  }
 ],
 "metadata": {
  "kernelspec": {
   "display_name": "Python 3",
   "language": "python",
   "name": "python3"
  },
  "language_info": {
   "codemirror_mode": {
    "name": "ipython",
    "version": 3
   },
   "file_extension": ".py",
   "mimetype": "text/x-python",
   "name": "python",
   "nbconvert_exporter": "python",
   "pygments_lexer": "ipython3",
   "version": "3.10.2"
  },
  "toc": {
   "base_numbering": 1,
   "nav_menu": {},
   "number_sections": true,
   "sideBar": true,
   "skip_h1_title": false,
   "title_cell": "Table of Contents",
   "title_sidebar": "Contents",
   "toc_cell": false,
   "toc_position": {
    "height": "calc(100% - 180px)",
    "left": "10px",
    "top": "150px",
    "width": "232px"
   },
   "toc_section_display": true,
   "toc_window_display": false
  }
 },
 "nbformat": 4,
 "nbformat_minor": 5
}
