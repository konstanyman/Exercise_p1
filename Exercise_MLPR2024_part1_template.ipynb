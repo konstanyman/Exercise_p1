{
 "cells": [
  {
   "cell_type": "markdown",
   "id": "0df12506",
   "metadata": {},
   "source": [
    "Exercise work consists of three parts. After each part, take the mini-exam available in Moodle. The questions concern the exercise so read the instructions carefully and make sure you remember to cover all given tasks. <br>\n",
    "After the deadline of each mini-exam, example results will be published. This helps you to move to the next part. However, take into account that the deadlines are thus strict, no extensions will be granted! <br>\n",
    "Two exam points can be acquired from each mini-exam. All three parts of the exercise are compulsory. Completed exercise work from previous years does not apply for this course."
   ]
  },
  {
   "cell_type": "markdown",
   "id": "0bfbc2b3",
   "metadata": {},
   "source": [
    "**Deadlines for the mini-exams:**\n",
    "- Part 1: Fri 9.2.2024 at 23:59\n",
    "- Part 2: Fri 23.2024 at 23:59\n",
    "- Part 3: Fri 8.3.2024 at 23:59\n",
    "\n",
    "**If you encounter problems, Google first and if you can’t find an answer, ask for help**\n",
    "- Moodle area for questions\n",
    "- pekavir@utu.fi\n",
    "\n",
    "**Grading**\n",
    "\n",
    "The exercise covers a part of the grading in this course. The course exam has 5 questions, 6 points of each. Exercise gives at maximum 6 points, i.e. the total score is 36 points."
   ]
  },
  {
   "cell_type": "markdown",
   "id": "fb9b2c64",
   "metadata": {},
   "source": [
    "# Part 1"
   ]
  },
  {
   "cell_type": "markdown",
   "id": "86c0dc30",
   "metadata": {},
   "source": [
    "Read the original research article:\n",
    "\n",
    "İ. Çınar and M. Koklu. Identification of rice varieties using machine learning algorithms. Journal of Agricultural Sciences, 28(2):307–325, 2022. doi: 10.15832/ankutbd.862482.\n",
    "\n",
    "https://dergipark.org.tr/en/download/article-file/1513632\n",
    "\n",
    "There will be questions regarding the article in the mini-exam."
   ]
  },
  {
   "cell_type": "markdown",
   "id": "3ce21d52",
   "metadata": {},
   "source": [
    "## Introduction"
   ]
  },
  {
   "cell_type": "markdown",
   "id": "35ca8979",
   "metadata": {},
   "source": [
    "Will be written in Part 3."
   ]
  },
  {
   "cell_type": "markdown",
   "id": "6f605da2",
   "metadata": {},
   "source": [
    "## Preparations of the data"
   ]
  },
  {
   "cell_type": "markdown",
   "id": "49dfc775",
   "metadata": {},
   "source": [
    "Make three folders in your working folder: 'notebooks', 'data' and 'training_data'. Save this notebook in 'notebooks' folder."
   ]
  },
  {
   "cell_type": "markdown",
   "id": "9b6b4354",
   "metadata": {},
   "source": [
    "Import all the packages needed for this notebook in one cell (add the ones you apply):"
   ]
  },
  {
   "cell_type": "code",
   "execution_count": 2,
   "id": "67124354",
   "metadata": {},
   "outputs": [],
   "source": [
    "import pandas as pd\n",
    "from random import sample\n",
    "from random import seed\n",
    "import glob, os"
   ]
  },
  {
   "cell_type": "markdown",
   "id": "e2221ff2",
   "metadata": {},
   "source": [
    "Import the images. Data can be found from (downloading starts as you press the link) https://www.muratkoklu.com/datasets/vtdhnd09.php <br>\n",
    "Save the data folders 'Arborio', 'Basmati', 'Ipsala', 'Jasmine', and 'Karacadag' in 'data' folder. <br>\n",
    "Take a random sample of 100 images from each rice species (i.e. 500 images in total). Use seed(50) for enabling reproducible results."
   ]
  },
  {
   "cell_type": "code",
   "execution_count": 4,
   "id": "26b02035",
   "metadata": {},
   "outputs": [],
   "source": [
    "# import data\n",
    "# set the seed for enabling the reproduction with the same sequence\n",
    "seed(50)\n",
    "\n",
    "path = '../data'\n",
    "folders = ['Arborio', 'Basmati', 'Ipsala', 'Jasmine', 'Karacadag']\n",
    "\n",
    "subset = []\n",
    "for folder in folders:\n",
    "    path_folder = os.path.join(path, folder)\n",
    "    # all .jpg files from the given folder\n",
    "    files = glob.glob(os.path.join(path_folder, '*.jpg'))\n",
    "    # gather all sampled filenames in subset list\n",
    "    subset.extend(sample(files, 100))"
   ]
  },
  {
   "cell_type": "markdown",
   "id": "825a0190",
   "metadata": {},
   "source": [
    " Gather the sampled images in a list."
   ]
  },
  {
   "cell_type": "markdown",
   "id": "e2c96a98",
   "metadata": {},
   "source": [
    "We will test the needed functions with one test image. It is 'basmati (244).jpg'. Save this image as test_image."
   ]
  },
  {
   "cell_type": "markdown",
   "id": "1d7d71fc",
   "metadata": {},
   "source": [
    "Determine the contour of each rice (use *findContours* from OpenCV). <br>\n",
    "Determine the contour also for the test_image. <br>\n",
    "Plot the original image of the test_image and also its image including the contour. <br>\n",
    "Be aware that *drawContours* adds the contour to the original image, so use the copy of the test_image as input for the function!"
   ]
  },
  {
   "cell_type": "markdown",
   "id": "b8386fd1",
   "metadata": {},
   "source": [
    "## Feature extraction"
   ]
  },
  {
   "cell_type": "markdown",
   "id": "0b4b9d9c",
   "metadata": {},
   "source": [
    "Gather the color feature data (12 features): <br>\n",
    "\n",
    "First, convert each RGB image to YCbCr-image. You can use *cvtColor* function from OpenCV with appropriate color conversion. <br>\n",
    "Be aware that openCV default channel order is BGR not RGB. In which order does the *cvtColor* function output the components? <br>\n",
    "\n",
    "Calculate the following color features for each image, including only the pixels within the contour (you can use *pointPolygonTest* from OpenCV)\n",
    "- Mean for each YCbCr component\n",
    "- Variance for each YCbCr component\n",
    "- Skewness for each YCbCr component\n",
    "- Kurtosis for each YCbCr component"
   ]
  },
  {
   "cell_type": "markdown",
   "id": "490a0494",
   "metadata": {},
   "source": [
    "Is point x = 125, y = 160 within the contour in the test_image? (x is in horizontal direction, y is in vertical direction)"
   ]
  },
  {
   "cell_type": "markdown",
   "id": "b7772d6d",
   "metadata": {},
   "source": [
    "What are the mean values of Y, Cb and Cr components for the test image (within the contour)?"
   ]
  },
  {
   "cell_type": "markdown",
   "id": "83cc994d",
   "metadata": {},
   "source": [
    "Gather the dimension feature data (8 features) <br>\n",
    "- Fit an ellipse to the contour points (use *fitEllipse* from OpenCV)\n",
    "- Plot one example image of each rice species including the fitted ellipse\n",
    "- Calculate the following features for each image (for details, see the original article)\n",
    "    - the major axis length the ellipse\n",
    "    - the minor axis length of the ellipse\n",
    "    - area inside the contour (use *contourArea* from OpenCV)\n",
    "    - perimeter of the contour (use *arcLength* from OpenCV)\n",
    "    - equivalent diameter\n",
    "    - compactness\n",
    "    - shape factor 1 (SF1)\n",
    "    - shape factor 2 (SF2)\n",
    "    \n",
    "Calculate the dimension feature values for the test_image as well. What are the dimension feature values for the test_image?"
   ]
  },
  {
   "cell_type": "markdown",
   "id": "316fdf5e",
   "metadata": {},
   "source": [
    "Gather all the features in a dataframe: one sample in one row, including all feature values in columns. <br>\n",
    "For each data point, include also information of the original image and the label (rice species). <br>\n",
    "Save the data in training_data folder as a parquet file."
   ]
  },
  {
   "cell_type": "markdown",
   "id": "6280b02f",
   "metadata": {},
   "source": [
    "Determine the maximum variance of the Cr component for each rice species. Which rice species has the smallest value?"
   ]
  },
  {
   "cell_type": "markdown",
   "id": "91e41c5d",
   "metadata": {},
   "source": [
    "Determine the minimum equivalent diameter for each rice species. Which rice species has the largest value?"
   ]
  },
  {
   "cell_type": "markdown",
   "id": "6e93a3e8",
   "metadata": {},
   "source": [
    "Determine the minimum, maximum and median equivalent diameter for Basmati rice samples. <br>\n",
    "Compare the equivalent diameter value of the test_image to these values. <br>"
   ]
  },
  {
   "cell_type": "markdown",
   "id": "e094a965",
   "metadata": {},
   "source": [
    "Does a high value of compactness mean that the rice is rather round or thin?"
   ]
  }
 ],
 "metadata": {
  "kernelspec": {
   "display_name": "Python [conda env:env1]",
   "language": "python",
   "name": "conda-env-env1-py"
  },
  "language_info": {
   "codemirror_mode": {
    "name": "ipython",
    "version": 3
   },
   "file_extension": ".py",
   "mimetype": "text/x-python",
   "name": "python",
   "nbconvert_exporter": "python",
   "pygments_lexer": "ipython3",
   "version": "3.10.5"
  },
  "toc": {
   "base_numbering": 1,
   "nav_menu": {},
   "number_sections": true,
   "sideBar": true,
   "skip_h1_title": false,
   "title_cell": "Table of Contents",
   "title_sidebar": "Contents",
   "toc_cell": false,
   "toc_position": {
    "height": "calc(100% - 180px)",
    "left": "10px",
    "top": "150px",
    "width": "232px"
   },
   "toc_section_display": true,
   "toc_window_display": false
  }
 },
 "nbformat": 4,
 "nbformat_minor": 5
}
